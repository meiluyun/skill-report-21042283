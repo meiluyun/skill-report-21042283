{
 "cells": [
  {
   "cell_type": "code",
   "execution_count": 165,
   "id": "8a8c4047",
   "metadata": {},
   "outputs": [],
   "source": [
    "import simpy\n",
    "import random"
   ]
  },
  {
   "cell_type": "code",
   "execution_count": 166,
   "id": "c1bcb418",
   "metadata": {},
   "outputs": [],
   "source": [
    "hours=8\n",
    "days=20\n",
    "total_time=hours*days\n",
    "cloth_capacity=300\n",
    "initial_cloth=100\n",
    "accessory_capacity=200\n",
    "initial_accessory=80\n",
    "pre_sew_capacity=100\n",
    "post_sew_capacity=200\n",
    "dispatch_capacity=400"
   ]
  },
  {
   "cell_type": "code",
   "execution_count": 167,
   "id": "64567a85",
   "metadata": {},
   "outputs": [],
   "source": [
    "num_fabric=3\n",
    "mean_fabric=1\n",
    "std_fabric=0.1\n",
    "\n",
    "num_lining=2\n",
    "mean_lining=1\n",
    "std_lining=0.1\n",
    "\n",
    "num_sew=2\n",
    "mean_sew=3\n",
    "std_sew=0.2\n",
    "\n",
    "num_assemble=4\n",
    "mean_assemble=2\n",
    "std_assemble=0.2"
   ]
  },
  {
   "cell_type": "code",
   "execution_count": 168,
   "id": "bb0b1e93",
   "metadata": {},
   "outputs": [],
   "source": [
    "cloth_critical_stock=(((8/mean_fabric)*num_fabric+(8/mean_lining)*num_lining)*3)\n",
    "accessory_critical_stock=(8/mean_assemble)*num_assemble*2"
   ]
  },
  {
   "cell_type": "code",
   "execution_count": 169,
   "id": "44ee8b86",
   "metadata": {},
   "outputs": [],
   "source": [
    "class Overcoat_Factory:\n",
    "    def __init__(self,env):\n",
    "        self.cloth=simpy.Container(env, capacity=cloth_capacity, init= initial_cloth)\n",
    "        self.cloth_control=env.process(self.cloth_stock_control(env))\n",
    "        self.accessory=simpy.Container(env, capacity=accessory_capacity, init= initial_accessory)\n",
    "        self.accessory_control=env.process(self.accessory_stock_control(env))\n",
    "        self.pre_sew=simpy.Container(env, capacity=pre_sew_capacity, init=0)\n",
    "        self.post_sew=simpy.Container(env, capacity=post_sew_capacity, init=0)\n",
    "        self.dispatch=simpy.Container(env, capacity=dispatch_capacity, init=0)\n",
    "        \n",
    "    def cloth_stock_control(self, env):\n",
    "        yield env.timeout(0)\n",
    "        while True:\n",
    "            if self.cloth.level<=cloth_critical_stock:\n",
    "                print('cloth stock bellow ccritical level ({0}) at day {1}, hour{2}'.format(self.cloth.level, int(env.now/8), env.now % 8))\n",
    "                print('need cloth supplier')\n",
    "                print('--------------------')\n",
    "                yield env.timeout(16)\n",
    "                print('cloth supplier arrives at day{0},hour {1}'.format(int(env.now/8), env.now % 8))\n",
    "                yield self.cloth.put(300)\n",
    "                print('new cloth stock is {0}'.format(self.cloth.level))\n",
    "                print('--------------------')\n",
    "                yield env.timeout(8)\n",
    "            else:\n",
    "                yield env.timeout(1)\n",
    "    \n",
    "    def accessory_stock_control(self, env):\n",
    "        yield env.timeout(0)\n",
    "        while True:\n",
    "            if self.accessory.level<=accessory_critical_stock:\n",
    "                print('accessory stock bellow critical level({0}) at day {1}, hour{2}'.format(self.accessory.level, int(env.now/8), env.now%8))\n",
    "                print('need accessory supplier')\n",
    "                print('-----------------------')\n",
    "                yield env.timeout(9)\n",
    "                print('accessory supplier arrive at day {0}, hour{1}'.format(int(env.now/8), env.now %8))\n",
    "                yield self.accessory.put(50)\n",
    "                print('new accessory stock is {0}'.format(self.accessory.level))\n",
    "                print('-----------------------')\n",
    "                yield env.timeout(8)\n",
    "            else:\n",
    "                yield env.timeout(1)\n",
    "        "
   ]
  },
  {
   "cell_type": "code",
   "execution_count": 170,
   "id": "43339511",
   "metadata": {},
   "outputs": [],
   "source": [
    "def fabric_maker(env, overcoat_factory):\n",
    "    while True:\n",
    "        yield overcoat_factory.cloth.get(1)\n",
    "        fabric_time=random.gauss(mean_fabric, std_fabric)\n",
    "        yield env.timeout(fabric_time)\n",
    "        yield overcoat_factory.pre_sew.put(3)"
   ]
  },
  {
   "cell_type": "code",
   "execution_count": 171,
   "id": "bfcd8771",
   "metadata": {},
   "outputs": [],
   "source": [
    "def lining_maker(env, overcoat_factory):\n",
    "    while True:\n",
    "        yield overcoat_factory.cloth.get(1)\n",
    "        lining_time=random.gauss(mean_lining, std_lining)\n",
    "        yield env.timeout(lining_time)\n",
    "        yield overcoat_factory.pre_sew.put(2)"
   ]
  },
  {
   "cell_type": "code",
   "execution_count": 172,
   "id": "f8c31ef5",
   "metadata": {},
   "outputs": [],
   "source": [
    "def sewer(env, overcoat_factory):\n",
    "    while True:\n",
    "        yield overcoat_factory.cloth.get(10)\n",
    "        sew_time=random.gauss(mean_sew, std_sew)\n",
    "        yield env.timeout(sew_time)\n",
    "        yield overcoat_factory.post_sew.put(10)"
   ]
  },
  {
   "cell_type": "code",
   "execution_count": 173,
   "id": "b65a9ec4",
   "metadata": {},
   "outputs": [],
   "source": [
    "def assembler(env, overcoat_factory):\n",
    "    while True:\n",
    "        yield overcoat_factory.post_sew.get(1)\n",
    "        yield overcoat_factory.accessory.get(1)\n",
    "        assembling_time=max(random.gauss(mean_assemble, std_assemble),1)\n",
    "        yield env.timeout(assembling_time)\n",
    "        yield overcoat_factory.dispatch.put(1)"
   ]
  },
  {
   "cell_type": "code",
   "execution_count": 174,
   "id": "f05eb9f7",
   "metadata": {},
   "outputs": [],
   "source": [
    "def fabric_maker_gen(env, overcoat_factory):\n",
    "    for i in range(num_fabric):\n",
    "        env.process(fabric_maker(env, overcoat_factory))\n",
    "        yield env.timeout(0)\n",
    "        \n",
    "def lining_maker_gen(env, overcoat_factory):\n",
    "    for i in range(num_lining):\n",
    "        env.process(lining_maker(env, overcoat_factory))\n",
    "        yield env.timeout(0)\n",
    "\n",
    "def sewer_maker_gen(env, overcoat_factory):\n",
    "    for i in range(num_sew):\n",
    "        env.process(sewer(env, overcoat_factory))\n",
    "        yield env.timeout(0)\n",
    "        \n",
    "def assembler_maker_gen(env, overcoat_factory):\n",
    "    for i in range(num_assemble):\n",
    "        env.process(assembler(env, overcoat_factory))\n",
    "        yield env.timeout(0)"
   ]
  },
  {
   "cell_type": "code",
   "execution_count": 175,
   "id": "5def739c",
   "metadata": {},
   "outputs": [],
   "source": [
    "env = simpy.Environment()\n",
    "overcoat_factory = Overcoat_Factory(env)"
   ]
  },
  {
   "cell_type": "code",
   "execution_count": 176,
   "id": "716d82c6",
   "metadata": {},
   "outputs": [],
   "source": [
    "fabric_gen = env.process(fabric_maker_gen(env, overcoat_factory))\n",
    "lining_gen = env.process(lining_maker_gen(env, overcoat_factory))\n",
    "sewer_gen = env.process(sewer_maker_gen(env, overcoat_factory))\n",
    "assembler_gen = env.process(assembler_maker_gen(env, overcoat_factory))"
   ]
  },
  {
   "cell_type": "code",
   "execution_count": 177,
   "id": "57d7eb28",
   "metadata": {},
   "outputs": [
    {
     "name": "stdout",
     "output_type": "stream",
     "text": [
      "cloth stock bellow ccritical level (88) at day 0, hour0\n",
      "need cloth supplier\n",
      "--------------------\n",
      "cloth supplier arrives at day2,hour 0\n",
      "new cloth stock is 277\n",
      "--------------------\n",
      "accessory stock bellow critical level(31) at day 3, hour2\n",
      "need accessory supplier\n",
      "-----------------------\n",
      "accessory supplier arrive at day 4, hour3\n",
      "new accessory stock is 62\n",
      "-----------------------\n",
      "cloth stock bellow ccritical level (117) at day 5, hour1\n",
      "need cloth supplier\n",
      "--------------------\n",
      "accessory stock bellow critical level(30) at day 6, hour3\n",
      "need accessory supplier\n",
      "-----------------------\n",
      "cloth supplier arrives at day7,hour 1\n",
      "accessory supplier arrive at day 7, hour4\n",
      "new accessory stock is 61\n",
      "-----------------------\n",
      "accessory stock bellow critical level(32) at day 9, hour3\n",
      "need accessory supplier\n",
      "-----------------------\n",
      "accessory supplier arrive at day 10, hour4\n",
      "new accessory stock is 63\n",
      "-----------------------\n",
      "accessory stock bellow critical level(32) at day 12, hour4\n",
      "need accessory supplier\n",
      "-----------------------\n",
      "accessory supplier arrive at day 13, hour5\n",
      "new accessory stock is 63\n",
      "-----------------------\n",
      "accessory stock bellow critical level(32) at day 15, hour4\n",
      "need accessory supplier\n",
      "-----------------------\n",
      "accessory supplier arrive at day 16, hour5\n",
      "new accessory stock is 66\n",
      "-----------------------\n",
      "accessory stock bellow critical level(32) at day 18, hour6\n",
      "need accessory supplier\n",
      "-----------------------\n",
      "accessory supplier arrive at day 19, hour7\n",
      "new accessory stock is 64\n",
      "-----------------------\n",
      "Pre paint has 99 fabric and lining ready to be painted\n",
      "Post paint has 31 fabric and lining ready to be assembled\n",
      "Dispatch has 315 overcoat ready to go!\n",
      "----------------------------------\n",
      "SIMULATION COMPLETED\n"
     ]
    }
   ],
   "source": [
    "env.run(until = total_time)\n",
    "\n",
    "print('Pre paint has %d fabric and lining ready to be painted' % overcoat_factory.pre_sew.level)\n",
    "print('Post paint has %d fabric and lining ready to be assembled' % overcoat_factory.post_sew.level)\n",
    "print('Dispatch has %d overcoat ready to go!' % overcoat_factory.dispatch.level)\n",
    "print('----------------------------------')\n",
    "print('SIMULATION COMPLETED')"
   ]
  },
  {
   "attachments": {
    "workflow.jpg": {
     "image/jpeg": "[encoded data removed]"
    }
   },
   "cell_type": "markdown",
   "id": "ef818ccb",
   "metadata": {},
   "source": [
    "![workflow.jpg](attachment:workflow.jpg)"
   ]
  },
  {
   "cell_type": "code",
   "execution_count": null,
   "id": "6596c0e4",
   "metadata": {},
   "outputs": [],
   "source": []
  },
  {
   "cell_type": "code",
   "execution_count": null,
   "id": "872ed27d",
   "metadata": {},
   "outputs": [],
   "source": []
  }
 ],
 "metadata": {
  "kernelspec": {
   "display_name": "Python 3 (ipykernel)",
   "language": "python",
   "name": "python3"
  },
  "language_info": {
   "codemirror_mode": {
    "name": "ipython",
    "version": 3
   },
   "file_extension": ".py",
   "mimetype": "text/x-python",
   "name": "python",
   "nbconvert_exporter": "python",
   "pygments_lexer": "ipython3",
   "version": "3.9.7"
  }
 },
 "nbformat": 4,
 "nbformat_minor": 5
}
