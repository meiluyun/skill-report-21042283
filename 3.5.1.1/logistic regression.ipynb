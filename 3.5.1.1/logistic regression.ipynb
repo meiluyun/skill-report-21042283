{
 "cells": [
  {
   "cell_type": "markdown",
   "metadata": {},
   "source": [
    "# Logistic Regression"
   ]
  },
  {
   "cell_type": "code",
   "execution_count": 1,
   "metadata": {},
   "outputs": [],
   "source": [
    "import  pandas as pd                 \n",
    "import  matplotlib.pyplot as plt     \n",
    "import  numpy  as np                 \n",
    "import  time                         \n",
    "import  math                         \n"
   ]
  },
  {
   "cell_type": "code",
   "execution_count": 2,
   "metadata": {},
   "outputs": [
    {
     "data": {
      "text/html": [
       "<div>\n",
       "<style scoped>\n",
       "    .dataframe tbody tr th:only-of-type {\n",
       "        vertical-align: middle;\n",
       "    }\n",
       "\n",
       "    .dataframe tbody tr th {\n",
       "        vertical-align: top;\n",
       "    }\n",
       "\n",
       "    .dataframe thead th {\n",
       "        text-align: right;\n",
       "    }\n",
       "</style>\n",
       "<table border=\"1\" class=\"dataframe\">\n",
       "  <thead>\n",
       "    <tr style=\"text-align: right;\">\n",
       "      <th></th>\n",
       "      <th>x1</th>\n",
       "      <th>x2</th>\n",
       "      <th>y</th>\n",
       "    </tr>\n",
       "  </thead>\n",
       "  <tbody>\n",
       "    <tr>\n",
       "      <th>0</th>\n",
       "      <td>34.623660</td>\n",
       "      <td>78.024693</td>\n",
       "      <td>0</td>\n",
       "    </tr>\n",
       "    <tr>\n",
       "      <th>1</th>\n",
       "      <td>30.286711</td>\n",
       "      <td>43.894998</td>\n",
       "      <td>0</td>\n",
       "    </tr>\n",
       "    <tr>\n",
       "      <th>2</th>\n",
       "      <td>35.847409</td>\n",
       "      <td>72.902198</td>\n",
       "      <td>0</td>\n",
       "    </tr>\n",
       "    <tr>\n",
       "      <th>3</th>\n",
       "      <td>60.182599</td>\n",
       "      <td>86.308552</td>\n",
       "      <td>1</td>\n",
       "    </tr>\n",
       "    <tr>\n",
       "      <th>4</th>\n",
       "      <td>79.032736</td>\n",
       "      <td>75.344376</td>\n",
       "      <td>1</td>\n",
       "    </tr>\n",
       "    <tr>\n",
       "      <th>...</th>\n",
       "      <td>...</td>\n",
       "      <td>...</td>\n",
       "      <td>...</td>\n",
       "    </tr>\n",
       "    <tr>\n",
       "      <th>95</th>\n",
       "      <td>83.489163</td>\n",
       "      <td>48.380286</td>\n",
       "      <td>1</td>\n",
       "    </tr>\n",
       "    <tr>\n",
       "      <th>96</th>\n",
       "      <td>42.261701</td>\n",
       "      <td>87.103851</td>\n",
       "      <td>1</td>\n",
       "    </tr>\n",
       "    <tr>\n",
       "      <th>97</th>\n",
       "      <td>99.315009</td>\n",
       "      <td>68.775409</td>\n",
       "      <td>1</td>\n",
       "    </tr>\n",
       "    <tr>\n",
       "      <th>98</th>\n",
       "      <td>55.340018</td>\n",
       "      <td>64.931938</td>\n",
       "      <td>1</td>\n",
       "    </tr>\n",
       "    <tr>\n",
       "      <th>99</th>\n",
       "      <td>74.775893</td>\n",
       "      <td>89.529813</td>\n",
       "      <td>1</td>\n",
       "    </tr>\n",
       "  </tbody>\n",
       "</table>\n",
       "<p>100 rows × 3 columns</p>\n",
       "</div>"
      ],
      "text/plain": [
       "           x1         x2  y\n",
       "0   34.623660  78.024693  0\n",
       "1   30.286711  43.894998  0\n",
       "2   35.847409  72.902198  0\n",
       "3   60.182599  86.308552  1\n",
       "4   79.032736  75.344376  1\n",
       "..        ...        ... ..\n",
       "95  83.489163  48.380286  1\n",
       "96  42.261701  87.103851  1\n",
       "97  99.315009  68.775409  1\n",
       "98  55.340018  64.931938  1\n",
       "99  74.775893  89.529813  1\n",
       "\n",
       "[100 rows x 3 columns]"
      ]
     },
     "execution_count": 2,
     "metadata": {},
     "output_type": "execute_result"
    }
   ],
   "source": [
    "pddata=pd.read_csv('LogiReg_data.txt',header=None,names=['x1','x2','y'])\n",
    "pddata"
   ]
  },
  {
   "cell_type": "code",
   "execution_count": 3,
   "metadata": {},
   "outputs": [
    {
     "data": {
      "text/html": [
       "<div>\n",
       "<style scoped>\n",
       "    .dataframe tbody tr th:only-of-type {\n",
       "        vertical-align: middle;\n",
       "    }\n",
       "\n",
       "    .dataframe tbody tr th {\n",
       "        vertical-align: top;\n",
       "    }\n",
       "\n",
       "    .dataframe thead th {\n",
       "        text-align: right;\n",
       "    }\n",
       "</style>\n",
       "<table border=\"1\" class=\"dataframe\">\n",
       "  <thead>\n",
       "    <tr style=\"text-align: right;\">\n",
       "      <th></th>\n",
       "      <th>x0</th>\n",
       "      <th>x1</th>\n",
       "      <th>x2</th>\n",
       "      <th>y</th>\n",
       "    </tr>\n",
       "  </thead>\n",
       "  <tbody>\n",
       "    <tr>\n",
       "      <th>0</th>\n",
       "      <td>1</td>\n",
       "      <td>34.623660</td>\n",
       "      <td>78.024693</td>\n",
       "      <td>0</td>\n",
       "    </tr>\n",
       "    <tr>\n",
       "      <th>1</th>\n",
       "      <td>1</td>\n",
       "      <td>30.286711</td>\n",
       "      <td>43.894998</td>\n",
       "      <td>0</td>\n",
       "    </tr>\n",
       "    <tr>\n",
       "      <th>2</th>\n",
       "      <td>1</td>\n",
       "      <td>35.847409</td>\n",
       "      <td>72.902198</td>\n",
       "      <td>0</td>\n",
       "    </tr>\n",
       "    <tr>\n",
       "      <th>3</th>\n",
       "      <td>1</td>\n",
       "      <td>60.182599</td>\n",
       "      <td>86.308552</td>\n",
       "      <td>1</td>\n",
       "    </tr>\n",
       "    <tr>\n",
       "      <th>4</th>\n",
       "      <td>1</td>\n",
       "      <td>79.032736</td>\n",
       "      <td>75.344376</td>\n",
       "      <td>1</td>\n",
       "    </tr>\n",
       "    <tr>\n",
       "      <th>...</th>\n",
       "      <td>...</td>\n",
       "      <td>...</td>\n",
       "      <td>...</td>\n",
       "      <td>...</td>\n",
       "    </tr>\n",
       "    <tr>\n",
       "      <th>95</th>\n",
       "      <td>1</td>\n",
       "      <td>83.489163</td>\n",
       "      <td>48.380286</td>\n",
       "      <td>1</td>\n",
       "    </tr>\n",
       "    <tr>\n",
       "      <th>96</th>\n",
       "      <td>1</td>\n",
       "      <td>42.261701</td>\n",
       "      <td>87.103851</td>\n",
       "      <td>1</td>\n",
       "    </tr>\n",
       "    <tr>\n",
       "      <th>97</th>\n",
       "      <td>1</td>\n",
       "      <td>99.315009</td>\n",
       "      <td>68.775409</td>\n",
       "      <td>1</td>\n",
       "    </tr>\n",
       "    <tr>\n",
       "      <th>98</th>\n",
       "      <td>1</td>\n",
       "      <td>55.340018</td>\n",
       "      <td>64.931938</td>\n",
       "      <td>1</td>\n",
       "    </tr>\n",
       "    <tr>\n",
       "      <th>99</th>\n",
       "      <td>1</td>\n",
       "      <td>74.775893</td>\n",
       "      <td>89.529813</td>\n",
       "      <td>1</td>\n",
       "    </tr>\n",
       "  </tbody>\n",
       "</table>\n",
       "<p>100 rows × 4 columns</p>\n",
       "</div>"
      ],
      "text/plain": [
       "    x0         x1         x2  y\n",
       "0    1  34.623660  78.024693  0\n",
       "1    1  30.286711  43.894998  0\n",
       "2    1  35.847409  72.902198  0\n",
       "3    1  60.182599  86.308552  1\n",
       "4    1  79.032736  75.344376  1\n",
       "..  ..        ...        ... ..\n",
       "95   1  83.489163  48.380286  1\n",
       "96   1  42.261701  87.103851  1\n",
       "97   1  99.315009  68.775409  1\n",
       "98   1  55.340018  64.931938  1\n",
       "99   1  74.775893  89.529813  1\n",
       "\n",
       "[100 rows x 4 columns]"
      ]
     },
     "execution_count": 3,
     "metadata": {},
     "output_type": "execute_result"
    }
   ],
   "source": [
    "pddata.insert(0,'x0',1)\n",
    "pddata"
   ]
  },
  {
   "cell_type": "code",
   "execution_count": null,
   "metadata": {},
   "outputs": [],
   "source": []
  },
  {
   "cell_type": "code",
   "execution_count": 5,
   "metadata": {
    "scrolled": true
   },
   "outputs": [
    {
     "data": {
      "text/plain": [
       "array([[ 1.        , 34.62365962, 78.02469282,  0.        ],\n",
       "       [ 1.        , 30.28671077, 43.89499752,  0.        ],\n",
       "       [ 1.        , 35.84740877, 72.90219803,  0.        ],\n",
       "       [ 1.        , 60.18259939, 86.3085521 ,  1.        ],\n",
       "       [ 1.        , 79.03273605, 75.34437644,  1.        ]])"
      ]
     },
     "execution_count": 5,
     "metadata": {},
     "output_type": "execute_result"
    }
   ],
   "source": [
    "pdvalues=pddata.values  \n",
    "pdvalues[0:5]"
   ]
  },
  {
   "cell_type": "code",
   "execution_count": null,
   "metadata": {},
   "outputs": [],
   "source": []
  },
  {
   "cell_type": "code",
   "execution_count": 6,
   "metadata": {},
   "outputs": [],
   "source": [
    "def pltshow(X,Y,points=2,cate=1):\n",
    "    c1=['b','r','y','g']\n",
    "    marker1=['x','o','x','o']\n",
    "    labe1=['one','two','three','four']\n",
    "    fig, ax = plt.subplots(figsize=(10, 5))  \n",
    "    if cate==1:\n",
    "        for i in range(points):\n",
    "            positive = X[Y == i]  \n",
    "            ax.scatter(positive[:, 0], positive[:, 1], s=30, c=c1[i], marker=marker1[i], label=labe1[i])\n",
    "    elif cate==2:\n",
    "        ax.scatter(X, Y, s=30 )\n",
    "    else:\n",
    "        ax.plot(X, Y, c='b', label='pass')\n",
    "\n",
    "    ax.set_xlabel('X')\n",
    "    ax.set_ylabel('Y')\n",
    "    plt.show()"
   ]
  },
  {
   "cell_type": "code",
   "execution_count": null,
   "metadata": {},
   "outputs": [],
   "source": []
  },
  {
   "cell_type": "code",
   "execution_count": 7,
   "metadata": {},
   "outputs": [
    {
     "data": {
      "text/plain": [
       "(100, 4)"
      ]
     },
     "execution_count": 7,
     "metadata": {},
     "output_type": "execute_result"
    }
   ],
   "source": [
    "cols=pdvalues.shape[1] \n",
    "X=pdvalues[:,0:cols-1] \n",
    "Y=pdvalues[:,cols-1]   \n",
    "shape=pdvalues.shape\n",
    "shape"
   ]
  },
  {
   "cell_type": "raw",
   "metadata": {},
   "source": [
    "pdvalues[:, 1:3][pdvalues[:,3] == 0]  "
   ]
  },
  {
   "cell_type": "code",
   "execution_count": 8,
   "metadata": {
    "scrolled": false
   },
   "outputs": [
    {
     "data": {
      "image/png": "[encoded data removed]",
      "text/plain": [
       "<Figure size 720x360 with 1 Axes>"
      ]
     },
     "metadata": {
      "needs_background": "light"
     },
     "output_type": "display_data"
    }
   ],
   "source": [
    "pltshow(pdvalues[:, 1:3],Y,points=2)\n"
   ]
  },
  {
   "cell_type": "code",
   "execution_count": 9,
   "metadata": {},
   "outputs": [],
   "source": [
    "def sigmoid(data):\n",
    "    return  1/(1+np.exp(-data))"
   ]
  },
  {
   "cell_type": "code",
   "execution_count": 10,
   "metadata": {},
   "outputs": [],
   "source": [
    "def model(X,theta):\n",
    "    return  sigmoid(np.dot(X,theta.T))  "
   ]
  },
  {
   "cell_type": "markdown",
   "metadata": {},
   "source": [
    "初始化θ参数"
   ]
  },
  {
   "cell_type": "code",
   "execution_count": 11,
   "metadata": {},
   "outputs": [
    {
     "data": {
      "text/plain": [
       "array([0., 0., 0.])"
      ]
     },
     "execution_count": 11,
     "metadata": {},
     "output_type": "execute_result"
    }
   ],
   "source": [
    "theta=np.zeros(cols-1)\n",
    "theta"
   ]
  },
  {
   "cell_type": "markdown",
   "metadata": {},
   "source": [
    "损失函数"
   ]
  },
  {
   "cell_type": "code",
   "execution_count": 12,
   "metadata": {},
   "outputs": [],
   "source": [
    "def loss(Xc,Yc,theta):\n",
    "    xlen = Xc.shape[0]\n",
    "    left=np.multiply((Yc-1),np.log(1-model(Xc,theta))) # multiply 乘法计算  对应位置相乘    \n",
    "    right=np.multiply(Yc,np.log(model(Xc,theta)))\n",
    "    cost=np.sum(left-right)/xlen\n",
    "    return  cost"
   ]
  },
  {
   "cell_type": "markdown",
   "metadata": {},
   "source": [
    "梯度计算"
   ]
  },
  {
   "cell_type": "code",
   "execution_count": 13,
   "metadata": {},
   "outputs": [],
   "source": [
    "def gradient(Xn,Yn,theta):# (100  3)  \n",
    "    xshape0=Xn.shape[0]   # 100\n",
    "    xshape1=Xn.shape[1]   # 3\n",
    "    grad=np.zeros(xshape1)# (0,0,0,)\n",
    "    chazhi=model(Xn, theta)-Yn\n",
    "    for j in range(xshape1):# 3   \n",
    "        onegrad=np.multiply(chazhi,Xn[:,j])\n",
    "        onegrad=np.sum(onegrad,axis=0)/xshape0\n",
    "        grad[j]=onegrad\n",
    "    return  grad"
   ]
  },
  {
   "cell_type": "markdown",
   "metadata": {},
   "source": [
    "打乱数据"
   ]
  },
  {
   "cell_type": "code",
   "execution_count": 14,
   "metadata": {},
   "outputs": [],
   "source": [
    "def shuffledata(datashuffle):\n",
    "    np.random.shuffle(datashuffle)\n",
    "    colsd = datashuffle.shape[1]\n",
    "    X = datashuffle[:, 0:colsd - 1]\n",
    "    Y = datashuffle[:, colsd - 1]\n",
    "    return X,Y"
   ]
  },
  {
   "cell_type": "code",
   "execution_count": 15,
   "metadata": {},
   "outputs": [],
   "source": [
    "\n",
    "def train(pdvalues,theta,celve=2,xuexilv=0.0001,val=0.02):  # stopcate 1 次数   2\n",
    "\n",
    "    ticks = time.time()\n",
    "    X = pdvalues[:, 0:cols - 1]\n",
    "    Y = pdvalues[:, cols - 1]\n",
    "    Y1=Y.copy()\n",
    "    i = 0\n",
    "    grad=gradient(X,Y,theta)\n",
    "    costnp = []\n",
    "\n",
    "    tg=[]\n",
    "    tg1=[]\n",
    "    tg1.append(theta[1])\n",
    "    tg1.append(grad[1])\n",
    "    tg.append(tg1)\n",
    "\n",
    "    while True:\n",
    "        \n",
    "        theta = theta - xuexilv * grad\n",
    "        \n",
    "        grad = gradient(X, Y, theta)\n",
    "        \n",
    "        \n",
    "        i = i + 1\n",
    "        if i < 15000:\n",
    "            tg1 = []\n",
    "            tg1.append(theta[1])\n",
    "            tg1.append(grad[1])\n",
    "            tg.append(tg1)\n",
    "\n",
    "        if i %2000 == 0:\n",
    "            cost1 = loss(X, Y, theta)\n",
    "            cost2=[]\n",
    "            cost2.append(i)\n",
    "            cost2.append(cost1)\n",
    "            costnp.append(cost2)\n",
    "\n",
    "        if celve==1:\n",
    "            if i>val:\n",
    "                break\n",
    "        elif celve==2:\n",
    "            if np.linalg.norm(grad)<val:\n",
    "                break\n",
    "        else:\n",
    "            pass\n",
    "\n",
    "    costnp = np.array(costnp)\n",
    "    tgnp=np.array(tg)\n",
    "\n",
    "    \n",
    "    print('loss:', loss(X, Y, theta))\n",
    "\n",
    "    Y=np.dot(X, theta.T)\n",
    "    for k,i in enumerate(Y):\n",
    "        if i >0:\n",
    "            Y[k]=1\n",
    "        else:\n",
    "            Y[k] = 0\n",
    "#算后散点图1\n",
    "    \n",
    "    pltshow(X[:,1:3],Y,points=2)\n",
    "    shapeY=Y.shape[0]\n",
    "#正确率\n",
    "    correct=[]\n",
    "\n",
    "    for k, i in enumerate(Y):\n",
    "        if i == Y1[k]:\n",
    "            correct.append(1)\n",
    "        else:\n",
    "            if i==0:\n",
    "                Y[k]=3\n",
    "            else:\n",
    "                Y[k]=2\n",
    "    accuracy=len(correct)/shapeY\n",
    "    \n",
    "#     print(X[0:20])\n",
    "#     print(Y[0:20])\n",
    "#     exit()\n",
    "    \n",
    "\n",
    "    pltshow(X[:,1:3], Y, points=4)#算后散点图2包含错误点\n",
    "    pltshow(costnp[:,0], costnp[:,1], '', cate=3)     #损失图\n",
    "    pltshow(tgnp[:, 0], tgnp[:, 1], '', cate=3)       #梯度线图\n",
    "    pltshow(tgnp[:, 0], tgnp[:, 1], points=1, cate=2)#梯度散点图\n",
    "\n",
    "    print('范数',np.linalg.norm(grad))\n",
    "    print('theta:', theta)\n",
    "    print('grad:',grad)\n",
    "    print('准确率:', accuracy)\n",
    "    ticks1 = time.time()\n",
    "    yunxingshijian=ticks1 - ticks\n",
    "    print('运行时间:',yunxingshijian)"
   ]
  },
  {
   "cell_type": "code",
   "execution_count": 16,
   "metadata": {},
   "outputs": [
    {
     "name": "stdout",
     "output_type": "stream",
     "text": [
      "原图\n"
     ]
    },
    {
     "data": {
      "image/png": "[encoded data removed]",
      "text/plain": [
       "<Figure size 720x360 with 1 Axes>"
      ]
     },
     "metadata": {
      "needs_background": "light"
     },
     "output_type": "display_data"
    },
    {
     "name": "stdout",
     "output_type": "stream",
     "text": [
      "训练后\n",
      "loss: 0.30971261346273876\n"
     ]
    },
    {
     "data": {
      "image/png": "[encoded data removed]",
      "text/plain": [
       "<Figure size 720x360 with 1 Axes>"
      ]
     },
     "metadata": {
      "needs_background": "light"
     },
     "output_type": "display_data"
    },
    {
     "data": {
      "image/png": "[encoded data removed]",
      "text/plain": [
       "<Figure size 720x360 with 1 Axes>"
      ]
     },
     "metadata": {
      "needs_background": "light"
     },
     "output_type": "display_data"
    },
    {
     "data": {
      "image/png": "[encoded data removed]",
      "text/plain": [
       "<Figure size 720x360 with 1 Axes>"
      ]
     },
     "metadata": {
      "needs_background": "light"
     },
     "output_type": "display_data"
    },
    {
     "data": {
      "image/png": "[encoded data removed]",
      "text/plain": [
       "<Figure size 720x360 with 1 Axes>"
      ]
     },
     "metadata": {
      "needs_background": "light"
     },
     "output_type": "display_data"
    },
    {
     "data": {
      "image/png": "[encoded data removed]",
      "text/plain": [
       "<Figure size 720x360 with 1 Axes>"
      ]
     },
     "metadata": {
      "needs_background": "light"
     },
     "output_type": "display_data"
    },
    {
     "name": "stdout",
     "output_type": "stream",
     "text": [
      "范数 0.019999965293509052\n",
      "theta: [-7.7825185   0.06808781  0.06161468]\n",
      "grad: [ 0.01999873 -0.00015568 -0.00015819]\n",
      "准确率: 0.92\n",
      "运行时间: 8.044085025787354\n"
     ]
    }
   ],
   "source": [
    "print('原图')\n",
    "pltshow(pdvalues[:, 1:3],Y,points=2)\n",
    "print('训练后')\n",
    "train(pdvalues,theta,xuexilv=0.001,val=0.02)      # 10秒\n"
   ]
  },
  {
   "cell_type": "code",
   "execution_count": null,
   "metadata": {},
   "outputs": [],
   "source": []
  },
  {
   "cell_type": "code",
   "execution_count": null,
   "metadata": {},
   "outputs": [],
   "source": []
  }
 ],
 "metadata": {
  "kernelspec": {
   "display_name": "Python 3 (ipykernel)",
   "language": "python",
   "name": "python3"
  },
  "language_info": {
   "codemirror_mode": {
    "name": "ipython",
    "version": 3
   },
   "file_extension": ".py",
   "mimetype": "text/x-python",
   "name": "python",
   "nbconvert_exporter": "python",
   "pygments_lexer": "ipython3",
   "version": "3.9.7"
  }
 },
 "nbformat": 4,
 "nbformat_minor": 4
}
