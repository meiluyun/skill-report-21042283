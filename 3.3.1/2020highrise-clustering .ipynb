{
 "cells": [
  {
   "cell_type": "code",
   "execution_count": 1,
   "id": "9e680459",
   "metadata": {},
   "outputs": [],
   "source": [
    "import networkx as nx\n",
    "import csv\n",
    "from pyvis.network import Network"
   ]
  },
  {
   "cell_type": "code",
   "execution_count": 2,
   "id": "d21a687e",
   "metadata": {},
   "outputs": [],
   "source": [
    "class Highrise:\n",
    "    def __init__(self, rank, name, country, stucture, function):\n",
    "        self.rank=rank\n",
    "        self.name=name\n",
    "        self.country=country\n",
    "        self.structure=structure\n",
    "        self.function=function"
   ]
  },
  {
   "cell_type": "code",
   "execution_count": 3,
   "id": "c31c0b67",
   "metadata": {},
   "outputs": [],
   "source": [
    "Highrises = []\n",
    "with open('highrise.csv')as csvfile:\n",
    "    reader = csv.DictReader(csvfile)\n",
    "    for row in reader:\n",
    "        rank = row['rank']\n",
    "        name = row['name']\n",
    "        country = row['country']\n",
    "        structure = row['structure']\n",
    "        function = row['function'].split(', ')\n",
    "        rank = rank + '--' + '\"' + name +'\"' \n",
    "        Highrises.append(Highrise(rank, name, country, structure, function))"
   ]
  },
  {
   "cell_type": "code",
   "execution_count": 4,
   "id": "2fc02b10",
   "metadata": {},
   "outputs": [],
   "source": [
    "HighriseGraph=nx.Graph()"
   ]
  },
  {
   "cell_type": "code",
   "execution_count": 5,
   "id": "1fdd83a1",
   "metadata": {},
   "outputs": [],
   "source": [
    "HighriseSubset = Highrises[0:50]"
   ]
  },
  {
   "cell_type": "code",
   "execution_count": 6,
   "id": "c63e5108",
   "metadata": {},
   "outputs": [
    {
     "ename": "ValueError",
     "evalue": "invalid literal for int() with base 10: '1--\"Central Park Tower\"'",
     "output_type": "error",
     "traceback": [
      "\u001b[1;31m---------------------------------------------------------------------------\u001b[0m",
      "\u001b[1;31mValueError\u001b[0m                                Traceback (most recent call last)",
      "\u001b[1;32m<ipython-input-6-c8ea1f048895>\u001b[0m in \u001b[0;36m<module>\u001b[1;34m\u001b[0m\n\u001b[0;32m      1\u001b[0m \u001b[1;32mfor\u001b[0m \u001b[0mh\u001b[0m \u001b[1;32min\u001b[0m \u001b[0mHighriseSubset\u001b[0m\u001b[1;33m:\u001b[0m\u001b[1;33m\u001b[0m\u001b[1;33m\u001b[0m\u001b[0m\n\u001b[1;32m----> 2\u001b[1;33m     \u001b[1;32mif\u001b[0m \u001b[0mint\u001b[0m\u001b[1;33m(\u001b[0m\u001b[0mh\u001b[0m\u001b[1;33m.\u001b[0m\u001b[0mrank\u001b[0m\u001b[1;33m)\u001b[0m\u001b[1;33m<\u001b[0m\u001b[1;36m11\u001b[0m\u001b[1;33m:\u001b[0m\u001b[1;33m\u001b[0m\u001b[1;33m\u001b[0m\u001b[0m\n\u001b[0m\u001b[0;32m      3\u001b[0m         \u001b[0mHighriseGraph\u001b[0m\u001b[1;33m.\u001b[0m\u001b[0madd_node\u001b[0m\u001b[1;33m(\u001b[0m\u001b[0mh\u001b[0m\u001b[1;33m.\u001b[0m\u001b[0mrank\u001b[0m\u001b[1;33m,\u001b[0m\u001b[0mlabel\u001b[0m\u001b[1;33m=\u001b[0m\u001b[0mh\u001b[0m\u001b[1;33m.\u001b[0m\u001b[0mname\u001b[0m\u001b[1;33m,\u001b[0m \u001b[0msize\u001b[0m\u001b[1;33m=\u001b[0m\u001b[1;36m5\u001b[0m\u001b[1;33m,\u001b[0m \u001b[0mcolor\u001b[0m\u001b[1;33m=\u001b[0m\u001b[1;34m'red'\u001b[0m\u001b[1;33m)\u001b[0m\u001b[1;33m\u001b[0m\u001b[1;33m\u001b[0m\u001b[0m\n\u001b[0;32m      4\u001b[0m     \u001b[1;32melse\u001b[0m\u001b[1;33m:\u001b[0m\u001b[1;33m\u001b[0m\u001b[1;33m\u001b[0m\u001b[0m\n\u001b[0;32m      5\u001b[0m         \u001b[0mHighriseGraph\u001b[0m\u001b[1;33m.\u001b[0m\u001b[0madd_node\u001b[0m\u001b[1;33m(\u001b[0m\u001b[0mh\u001b[0m\u001b[1;33m.\u001b[0m\u001b[0mrank\u001b[0m\u001b[1;33m,\u001b[0m \u001b[0mlabel\u001b[0m\u001b[1;33m=\u001b[0m\u001b[0mh\u001b[0m\u001b[1;33m.\u001b[0m\u001b[0mname\u001b[0m\u001b[1;33m,\u001b[0m\u001b[0msize\u001b[0m\u001b[1;33m=\u001b[0m\u001b[1;36m3\u001b[0m\u001b[1;33m,\u001b[0m \u001b[0mcolor\u001b[0m\u001b[1;33m=\u001b[0m\u001b[1;34m'black'\u001b[0m\u001b[1;33m)\u001b[0m\u001b[1;33m\u001b[0m\u001b[1;33m\u001b[0m\u001b[0m\n",
      "\u001b[1;31mValueError\u001b[0m: invalid literal for int() with base 10: '1--\"Central Park Tower\"'"
     ]
    }
   ],
   "source": [
    "for h in HighriseSubset:\n",
    "    if int(h.rank)<11:\n",
    "        HighriseGraph.add_node(h.rank,label=h.name, size=5, color='red')\n",
    "    else:\n",
    "        HighriseGraph.add_node(h.rank, label=h.name,size=3, color='black')"
   ]
  },
  {
   "cell_type": "code",
   "execution_count": 7,
   "id": "b2b6f3c9",
   "metadata": {},
   "outputs": [],
   "source": [
    "for h1 in HighriseSubset:\n",
    "    for h2 in HighriseSubset:\n",
    "        if not h1 == h2:\n",
    "            if h1.structure == h2.structure:\n",
    "                HighriseGraph.add_edge(h1.rank,h2.rank, size=10, color='#F4A7B9')#pink\n",
    "            for office in h1.function:\n",
    "                if office in h2.function:\n",
    "                    HighriseGraph.add_edge(h1.rank,h2.rank, size=5, color='#7B90D2') #blue   \n",
    "                    \n",
    "            if h1.country ==h2.country:\n",
    "                HighriseGraph.add_edge(h1.rank,h2.rank, size=20, color='#F4A7B9')\n",
    "                 "
   ]
  },
  {
   "cell_type": "code",
   "execution_count": 8,
   "id": "9cf16a7e",
   "metadata": {
    "scrolled": true
   },
   "outputs": [
    {
     "name": "stdout",
     "output_type": "stream",
     "text": [
      "{'1--\"Central Park Tower\"': 0.8528138528138528, '2--\"One Vanderbilt Avenue\"': 0.8618618618618619, '6--\"The St. Regis Chicago\"': 0.7122507122507122, '7--\"NEVA TOWERS 2\"': 0.9473684210526315, '10--\"Hengqin International Finance Center\"': 0.6913319238900634, '11--\"SLS Dubai\"': 0.717391304347826, '16--\"Australia 108\"': 0.8714285714285714, '18--\"Amna Tower\"': 0.9, '19--\"T.OP Corporativo\"': 0.7402597402597403, '20--\"The Address Beach Resort\"': 0.935672514619883, '22--\"NEVA TOWERS 1\"': 0.627177700348432, '24--\"World One\"': 0.9473684210526315, '25--\"World View\"': 0.9473684210526315, '28--\"Boulevard Point\"': 0.9, '35--\"99 Hudson Street\"': 0.8528138528138528, '37--\"Fangda Building\"': 0.6338652482269503, '39--\"Nathani Heights\"': 0.9473684210526315, '42--\"Rainier Square\"': 0.6913319238900634, '44--\"Permata Sapura Tower\"': 0.627177700348432, '45--\"UCC Huanyu Huijin Center Tower 1\"': 0.6338652482269503, '46--\"110 North Wacker\"': 0.8618618618618619, '49--\"Landmark Pinnacle\"': 0.8368421052631579, '50--\"Hotel Safi Metropolitan\"': 0.7402597402597403, '3--\"Guangxi China Resources Tower\"': 0.9, '4--\"Guiyang International Financial Center T1\"': 0.9, '5--\"Shum Yip Upperhills Tower 1\"': 0.9, '8--\"Heartland 66 Office Tower\"': 0.9714795008912656, '9--\"Parc1 Tower I\"': 0.9714795008912656, '12--\"Twin Towers Guiyang, East Tower\"': 0.9714795008912656, '13--\"Twin Towers Guiyang, West Tower\"': 0.9714795008912656, '14--\"Jinan Center Financial City A5-3\"': 0.9001782531194296, '15--\"Xiangjiang Fortune Finance Center Tower 1\"': 0.9714795008912656, '17--\"Shenzhen Bay Innovation and Technology Centre Tower 1\"': 0.9714795008912656, '21--\"OCT Tower\"': 0.9714795008912656, '23--\"Shimao Qianhai Center\"': 0.9714795008912656, '26--\"ICD Brookfield Place\"': 0.8193456614509246, '27--\"Qiantan Center\"': 0.9714795008912656, '29--\"22 Bishopsgate\"': 0.9243697478991597, '30--\"Fortune Jinmao Tower A\"': 0.9959677419354839, '31--\"Guiyang International Financial Center T2\"': 0.9714795008912656, '32--\"Commercial Union Centre 1\"': 0.9001782531194296, '33--\"Commercial Union Centre 2\"': 0.9714795008912656, '34--\"One Barangaroo\"': 0.8850806451612904, '36--\"R&F Riverside New City - Ritz-Carlton Hotel\"': 0.9126559714795008, '38--\"Xiangjiang Fortune Finance Center Tower 2\"': 0.9001782531194296, '40--\"Parc1 Tower II\"': 0.9714795008912656, '41--\"Landmark Tower\"': 0.9001782531194296, '43--\"Cadre City Plaza West Tower\"': 0.9, '47--\"Shenzhen Bay Innovation and Technology Centre Tower 2\"': 0.9714795008912656, '48--\"Greenland Center\"': 0.9714795008912656}\n"
     ]
    }
   ],
   "source": [
    "clustering = nx.clustering(HighriseGraph)\n",
    "print(clustering)"
   ]
  },
  {
   "cell_type": "code",
   "execution_count": 9,
   "id": "030e87ef",
   "metadata": {},
   "outputs": [],
   "source": [
    "HighriseGraph = nx.Graph()\n",
    "for h in HighriseSubset:\n",
    "    HighriseGraph.add_node(h.rank,label = h.rank,size=int(100 * float('%.1f' %clustering[h.rank])),color='#a2d7dd')"
   ]
  },
  {
   "cell_type": "code",
   "execution_count": 10,
   "id": "c8456cff",
   "metadata": {},
   "outputs": [],
   "source": [
    "for h1 in HighriseSubset:\n",
    "    for h2 in HighriseSubset:\n",
    "        if not h1 == h2:\n",
    "            if h1.structure == h2.structure:\n",
    "                HighriseGraph.add_edge(h1.rank,h2.rank, size=1, color='#F4A7B9')#pink\n",
    "            for office in h1.function:\n",
    "                if office in h2.function:\n",
    "                    HighriseGraph.add_edge(h1.rank,h2.rank, size=1, color='#7B90D2') #blue \n",
    "            if h1.country ==h2.country:\n",
    "                HighriseGraph.add_edge(h1.rank,h2.rank, size=5, color='#ED784A')#purple"
   ]
  },
  {
   "cell_type": "code",
   "execution_count": 12,
   "id": "b762f527",
   "metadata": {},
   "outputs": [],
   "source": [
    "from pyvis.network import Network\n",
    "nt = Network('1080px', '1080px')\n",
    "nt.barnes_hut()\n",
    "nt.from_nx(HighriseGraph)\n",
    "nt.show_buttons(filter_=['physics'])\n",
    "nt.show('highrise2020.html')"
   ]
  },
  {
   "cell_type": "markdown",
   "id": "981a40bd",
   "metadata": {},
   "source": [
    "The figure shows the similarity of national functions in the new high-rise buildings in 2020."
   ]
  },
  {
   "cell_type": "code",
   "execution_count": null,
   "id": "f3f2ede7",
   "metadata": {},
   "outputs": [],
   "source": []
  }
 ],
 "metadata": {
  "kernelspec": {
   "display_name": "Python 3",
   "language": "python",
   "name": "python3"
  },
  "language_info": {
   "codemirror_mode": {
    "name": "ipython",
    "version": 3
   },
   "file_extension": ".py",
   "mimetype": "text/x-python",
   "name": "python",
   "nbconvert_exporter": "python",
   "pygments_lexer": "ipython3",
   "version": "3.8.8"
  }
 },
 "nbformat": 4,
 "nbformat_minor": 5
}
